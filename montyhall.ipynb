{
 "cells": [
  {
   "cell_type": "code",
   "execution_count": 14,
   "metadata": {},
   "outputs": [],
   "source": [
    "from enum import Enum\n",
    "import numpy as np\n",
    "import random\n",
    "from typing import List"
   ]
  },
  {
   "cell_type": "code",
   "execution_count": 97,
   "metadata": {},
   "outputs": [],
   "source": [
    "class PlayerStrategy(Enum):\n",
    "    KEEP_DOOR = 0\n",
    "    CHANGE_DOOR = 1\n",
    "\n",
    "class DoorContent(Enum):\n",
    "    GOAT = 0\n",
    "    CAR = 1\n",
    "\n",
    "class Outcome(Enum):\n",
    "    WIN = 0\n",
    "    LOSE = 1\n",
    "\n",
    "\n",
    "class MontyHallGame:\n",
    "\n",
    "    def __init__(self, num_doors=3, seed = 0):\n",
    "        np.random.seed(seed)\n",
    "        assert num_doors > 2\n",
    "\n",
    "        self.doors: List[DoorContent] = [DoorContent.GOAT] * num_doors\n",
    "\n",
    "        # One door hides the car\n",
    "        self.doors[random.randint(0, num_doors - 1)] = DoorContent.CAR\n",
    "    \n",
    "    def play(self, player_strategy: PlayerStrategy) -> Outcome:\n",
    "        available_doors = list(range(len(self.doors)))\n",
    "\n",
    "        # Player chooses door\n",
    "        player_chosen_door = random.choice(available_doors)\n",
    "        available_doors.remove(player_chosen_door)\n",
    "        \n",
    "        # Monty opens a door hiding a goat\n",
    "        while True:\n",
    "            monty_opened_door = random.choice(available_doors)\n",
    "            if self.doors[monty_opened_door] == DoorContent.GOAT:\n",
    "                break\n",
    "        available_doors.remove(monty_opened_door)\n",
    "        \n",
    "        if player_strategy == PlayerStrategy.KEEP_DOOR:\n",
    "            player_final_choice = player_chosen_door\n",
    "        elif player_strategy == PlayerStrategy.CHANGE_DOOR:\n",
    "            player_final_choice = random.choice(available_doors)\n",
    "        else:\n",
    "            raise Exception(\"Do other strategies even exist?\")\n",
    "        \n",
    "        if self.doors[player_final_choice] == DoorContent.CAR:\n",
    "            return Outcome.WIN\n",
    "        else:\n",
    "            return Outcome.LOSE"
   ]
  },
  {
   "cell_type": "code",
   "execution_count": 156,
   "metadata": {},
   "outputs": [],
   "source": [
    "def run_game_simulations(player_strategy: PlayerStrategy, num_doors: int, num_simulations: int) -> List[Outcome]:\n",
    "    outcomes = [ MontyHallGame(num_doors=num_doors).play(player_strategy=player_strategy) for _ in range(num_simulations)]\n",
    "    return outcomes\n",
    "\n",
    "def percentage(value: int, total: float):\n",
    "    return round(value / total * 100, 3)\n",
    "\n",
    "def stringify_strategy(ps: PlayerStrategy):\n",
    "    s = str(ps)\n",
    "    return \" \".join((s[15:-5], s[-4:]))\n",
    "\n",
    "strategies = [PlayerStrategy.KEEP_DOOR, PlayerStrategy.CHANGE_DOOR]\n"
   ]
  },
  {
   "cell_type": "code",
   "execution_count": 157,
   "metadata": {},
   "outputs": [
    {
     "name": "stdout",
     "output_type": "stream",
     "text": [
      "=========\n",
      "KEEP DOOR\n",
      "Win:    \t33.41%\n",
      "Defeats:\t66.59%\n",
      "=========\n",
      "=========\n",
      "CHANGE DOOR\n",
      "Win:    \t66.07%\n",
      "Defeats:\t33.93%\n",
      "=========\n"
     ]
    }
   ],
   "source": [
    "num_simulations = 10000\n",
    "strategy_wins_dict = {}\n",
    "for strategy in strategies:\n",
    "    outcomes = run_game_simulations(player_strategy=strategy, num_doors=3, num_simulations=num_simulations)\n",
    "\n",
    "    wins_percentage = percentage(outcomes.count(Outcome.WIN), total=num_simulations)\n",
    "    defeats_percentage = percentage(outcomes.count(Outcome.LOSE), total=num_simulations)\n",
    "    strategy_str = stringify_strategy(strategy)\n",
    "\n",
    "    print(\"=========\")\n",
    "    print(strategy_str)\n",
    "    print(\"Win:    \\t{}%\".format(wins_percentage))\n",
    "    print(\"Defeats:\\t{}%\".format(defeats_percentage))\n",
    "    print(\"=========\")\n",
    "\n",
    "    strategy_wins_dict[strategy_str] = wins_percentage"
   ]
  },
  {
   "cell_type": "code",
   "execution_count": 158,
   "metadata": {},
   "outputs": [
    {
     "data": {
      "image/png": "[encoded data removed]",
      "text/plain": [
       "<Figure size 640x480 with 1 Axes>"
      ]
     },
     "metadata": {},
     "output_type": "display_data"
    }
   ],
   "source": [
    "import matplotlib.pyplot as plt\n",
    "\n",
    "plt.title(\"Monty Hall Problem - Win percentage (%)\")\n",
    "ax = plt.bar(*zip(*strategy_wins_dict.items()))\n",
    "plt.bar_label(ax)\n",
    "plt.savefig(\"images/result.png\")"
   ]
  }
 ],
 "metadata": {
  "kernelspec": {
   "display_name": "Python 3",
   "language": "python",
   "name": "python3"
  },
  "language_info": {
   "codemirror_mode": {
    "name": "ipython",
    "version": 3
   },
   "file_extension": ".py",
   "mimetype": "text/x-python",
   "name": "python",
   "nbconvert_exporter": "python",
   "pygments_lexer": "ipython3",
   "version": "3.8.0"
  },
  "orig_nbformat": 4
 },
 "nbformat": 4,
 "nbformat_minor": 2
}
